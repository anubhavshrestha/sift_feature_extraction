{
  "nbformat": 4,
  "nbformat_minor": 0,
  "metadata": {
    "colab": {
      "provenance": [],
      "gpuType": "T4",
      "toc_visible": true,
      "authorship_tag": "ABX9TyMoqfuI0nDbwDqBieDhVpbS",
      "include_colab_link": true
    },
    "kernelspec": {
      "name": "python3",
      "display_name": "Python 3"
    },
    "language_info": {
      "name": "python"
    },
    "accelerator": "GPU"
  },
  "cells": [
    {
      "cell_type": "markdown",
      "metadata": {
        "id": "view-in-github",
        "colab_type": "text"
      },
      "source": [
        "<a href=\"https://colab.research.google.com/github/anubhavshrestha/sift_feature_extraction/blob/main/SIFT_TRAINED.ipynb\" target=\"_parent\"><img src=\"https://colab.research.google.com/assets/colab-badge.svg\" alt=\"Open In Colab\"/></a>"
      ]
    },
    {
      "cell_type": "code",
      "execution_count": null,
      "metadata": {
        "id": "Skiv7NTNn11q",
        "colab": {
          "base_uri": "https://localhost:8080/"
        },
        "outputId": "25a76cf8-5640-4424-b9f3-b8b4e967123d"
      },
      "outputs": [
        {
          "output_type": "stream",
          "name": "stdout",
          "text": [
            "Downloading https://www.cs.toronto.edu/~kriz/cifar-10-python.tar.gz to ./data/cifar-10-python.tar.gz\n"
          ]
        },
        {
          "output_type": "stream",
          "name": "stderr",
          "text": [
            "100%|██████████| 170498071/170498071 [00:03<00:00, 43129819.35it/s]\n"
          ]
        },
        {
          "output_type": "stream",
          "name": "stdout",
          "text": [
            "Extracting ./data/cifar-10-python.tar.gz to ./data\n",
            "Files already downloaded and verified\n"
          ]
        }
      ],
      "source": [
        "import torch\n",
        "import torchvision\n",
        "import torchvision.transforms as transforms\n",
        "import torch.nn.functional as F\n",
        "import torch.nn as nn\n",
        "from torch.autograd import Variable\n",
        "import torch.optim as optim\n",
        "\n",
        "transforms_train = transforms.Compose([\n",
        "    transforms.RandomCrop(32, padding=4),\n",
        "    transforms.RandomHorizontalFlip(),\n",
        "    transforms.ToTensor(),\n",
        "    # transforms.Normalize((0.4914, 0.4822, 0.4465), (0.2023, 0.1994, 0.2010)),\n",
        "])\n",
        "\n",
        "transforms_test = transforms.Compose([\n",
        "     transforms.ToTensor(),\n",
        "    # transforms.Normalize((0.4914, 0.4822, 0.4465), (0.2023, 0.1994, 0.2010)),\n",
        "])\n",
        "\n",
        "trainset = torchvision.datasets.CIFAR10(root='./data', train=True,\n",
        "                                        download=True, transform = transforms_train)\n",
        "\n",
        "trainloader = torch.utils.data.DataLoader(trainset, batch_size=128,\n",
        "                                          shuffle=True, num_workers = 0)\n",
        "\n",
        "testset = torchvision.datasets.CIFAR10(root='./data', train=False,\n",
        "                                        download=True, transform = transforms_test)\n",
        "testloader = torch.utils.data.DataLoader(testset, batch_size=128,\n",
        "                                         shuffle=False, num_workers = 0)"
      ]
    },
    {
      "cell_type": "code",
      "source": [
        "import cv2\n",
        "import os\n",
        "import numpy as np\n",
        "import matplotlib.pyplot as plt\n",
        "def show_image(image, label):\n",
        "    plt.imshow(transforms.ToPILImage()(image))\n",
        "    plt.title(f\"Label: {label}\")\n",
        "    plt.axis('off')\n",
        "    plt.show()\n",
        "\n",
        "def show_sift_image(image):\n",
        "    image_np = np.array(transforms.ToPILImage()(image))  # Convert to NumPy array\n",
        "    gray = cv2.cvtColor(image_np, cv2.COLOR_RGB2GRAY)\n",
        "    sift = cv2.SIFT_create()\n",
        "    kp = sift.detect(gray, None)\n",
        "\n",
        "    # Create a black image to draw SIFT keypoints on\n",
        "    sift_image = np.zeros_like(image_np)\n",
        "\n",
        "    # Draw SIFT keypoints on the black image\n",
        "    sift_image = cv2.drawKeypoints(image_np, kp, sift_image, flags=cv2.DRAW_MATCHES_FLAGS_DRAW_RICH_KEYPOINTS)\n",
        "    # print(sift_image)\n",
        "\n",
        "    # plt.imshow(sift_image.shape)\n",
        "    # print(\"HELLO!!!!\")\n",
        "    plt.title(\"SIFT Keypoints\")\n",
        "    plt.axis('off')\n",
        "    plt.show()\n",
        "\n",
        "def extract_sift_features_and_visualize(image_tensor):\n",
        "    # Convert PyTorch tensor to NumPy array\n",
        "    image_tensor = image_tensor.permute(1,2,0)\n",
        "    image_np = image_tensor.numpy().astype(np.uint8)\n",
        "\n",
        "    # Convert NumPy array to BGR format (OpenCV image)\n",
        "    # img = cv2.cvtColor(np.transpose(image_np.astype(np.uint8), (1, 2, 0)), cv2.COLOR_RGB2BGR)\n",
        "    img = image_np\n",
        "\n",
        "    # Converting the image to grayscale\n",
        "    gray = cv2.cvtColor(img, cv2.COLOR_BGR2GRAY)\n",
        "\n",
        "    # Initialize the SIFT detector\n",
        "    sift = cv2.SIFT_create()\n",
        "\n",
        "    # Detect keypoints in the image\n",
        "    kp = sift.detect(gray, None)\n",
        "\n",
        "    # Draw the keypoints on the image\n",
        "    # img_with_keypoints = cv2.drawKeypoints(img, kp, flags=cv2.DRAW_MATCHES_FLAGS_DRAW_RICH_KEYPOINTS)\n",
        "    img_with_keypoints=cv2.drawKeypoints(gray ,\n",
        "                      kp ,\n",
        "                      img ,\n",
        "                      flags=cv2.DRAW_MATCHES_FLAGS_DRAW_RICH_KEYPOINTS)\n",
        "\n",
        "    # Visualize the original image and the image with SIFT keypoints side by side\n",
        "    plt.figure(figsize=(12, 6))\n",
        "    plt.subplot(1, 2, 1)\n",
        "    plt.imshow(cv2.cvtColor(img, cv2.COLOR_BGR2RGB))\n",
        "    plt.title('Original Image')\n",
        "    plt.axis('off')\n",
        "\n",
        "    plt.subplot(1, 2, 2)\n",
        "    plt.imshow(cv2.cvtColor(img_with_keypoints, cv2.COLOR_BGR2RGB))\n",
        "    plt.title('Image with SIFT Keypoints')\n",
        "    plt.axis('off')\n",
        "\n",
        "    plt.show()\n",
        "\n",
        "    # Save the image with keypoints\n",
        "    # cv2.imwrite('image-with-keypoints.jpg', img_with_keypoints)\n",
        "def convert_tensor_to_sift(image_tensor):\n",
        "# Convert the PyTorch tensor to a NumPy array and permute the dimensions\n",
        "  image_np = np.transpose(image_tensor.numpy(), (1, 2, 0))\n",
        "\n",
        "  # Convert to uint8 data type\n",
        "  image_np = (image_np * 255).astype(np.uint8)\n",
        "\n",
        "  # Convert to grayscale if the image has multiple channels\n",
        "  if image_np.shape[-1] == 3:\n",
        "      image_np = cv2.cvtColor(image_np, cv2.COLOR_RGB2GRAY)\n",
        "\n",
        "  # Initialize the SIFT detector\n",
        "  sift = cv2.SIFT_create()\n",
        "\n",
        "  # Detect keypoints and compute descriptors\n",
        "  kp, des = sift.detectAndCompute(image_np, None)\n",
        "\n",
        "  keypoints_with_descriptors = np.hstack((np.array([kp[idx].pt for idx in range(len(kp))]), des))\n",
        "\n",
        "\n",
        "  # Draw the keypoints on the image\n",
        "  img_with_keypoints = cv2.drawKeypoints(image_np, kp, None)\n",
        "  # print(\"IMG WITH KEYPOINTS: \", img_with_keypoints)\n",
        "  shape = img_with_keypoints.shape\n",
        "  # print(\"THE SHAPE IS: \", shape)\n",
        "\n",
        "  # Visualize the image with keypoints\n",
        "  # plt.imshow(img_with_keypoints)\n",
        "  # plt.title('Image with SIFT Keypoints')\n",
        "  # plt.axis('off')\n",
        "  # plt.show()\n",
        "  # print(\"KP: \",len(kp))\n",
        "  # print(\"DESCRIPTOR: \",des.shape)\n",
        "  # print(des)\n",
        "  return torch.tensor(np.transpose(img_with_keypoints,(2,0,1)))\n",
        "\n",
        "def convert_images_to_sift(image_tensors):\n",
        "  sift_tensors = []\n",
        "  for image_tensor in image_tensors:\n",
        "    sift_tensor = convert_tensor_to_sift(image_tensor)\n",
        "    sift_tensors.append(sift_tensor)\n",
        "\n",
        "  stacked_sift_tensors = torch.stack(sift_tensors)\n",
        "  return stacked_sift_tensors\n"
      ],
      "metadata": {
        "id": "sf630Gznlb4G"
      },
      "execution_count": null,
      "outputs": []
    },
    {
      "cell_type": "code",
      "source": [
        "for data in trainloader:\n",
        "  images, labels = data\n",
        "  print(\"IMAGeS SHAPE: \", images.shape)\n",
        "  for image, label in zip(images,labels):\n",
        "    print(type(image))\n",
        "    show_image(image, label)\n",
        "    print(convert_tensor_to_sift(image).shape)\n",
        "    break\n",
        "  x = convert_images_to_sift(images)\n",
        "  print(\"CONVERTED SHAPE = \", x.shape)\n",
        "  show_image(x[0], 1)\n",
        "  print(type(x))\n",
        "  break"
      ],
      "metadata": {
        "colab": {
          "base_uri": "https://localhost:8080/",
          "height": 928
        },
        "id": "zkbbm1Wbl4fS",
        "outputId": "e65eb613-62f6-49cb-a3ee-f06b9fb9b98a"
      },
      "execution_count": null,
      "outputs": [
        {
          "output_type": "stream",
          "name": "stdout",
          "text": [
            "IMAGeS SHAPE:  torch.Size([128, 3, 32, 32])\n",
            "<class 'torch.Tensor'>\n"
          ]
        },
        {
          "output_type": "display_data",
          "data": {
            "text/plain": [
              "<Figure size 640x480 with 1 Axes>"
            ],
            "image/png": "[encoded data removed]"
          },
          "metadata": {}
        },
        {
          "output_type": "stream",
          "name": "stdout",
          "text": [
            "torch.Size([3, 32, 32])\n",
            "CONVERTED SHAPE =  torch.Size([128, 3, 32, 32])\n"
          ]
        },
        {
          "output_type": "display_data",
          "data": {
            "text/plain": [
              "<Figure size 640x480 with 1 Axes>"
            ],
            "image/png": "[encoded data removed]"
          },
          "metadata": {}
        },
        {
          "output_type": "stream",
          "name": "stdout",
          "text": [
            "<class 'torch.Tensor'>\n"
          ]
        }
      ]
    },
    {
      "cell_type": "code",
      "source": [
        "class Net(nn.Module):\n",
        "    def __init__ (self):\n",
        "        super(Net, self).__init__()\n",
        "        self.conv1 = nn.Conv2d(3,64,4, stride=1, padding=2)\n",
        "        self.batch_normalize = nn.BatchNorm2d(64)\n",
        "        self.conv2 = nn.Conv2d(64,64,4, stride=1, padding=2)\n",
        "        self.pool = nn.MaxPool2d(2, 2)\n",
        "        self.drop = nn.Dropout(p=0.5)\n",
        "        self.conv3 = nn.Conv2d(64,64,4, stride=1, padding=2)\n",
        "        self.conv4 = nn.Conv2d(64,64,4, stride=1, padding=2)\n",
        "        self.conv5 = nn.Conv2d(64,64,4, stride=1, padding=2)\n",
        "        self.conv6 = nn.Conv2d(64,64,3, stride=1, padding=0)\n",
        "        self.conv7 = nn.Conv2d(64,64,3, stride=1, padding=0)\n",
        "        self.conv8 = nn.Conv2d(64,64,3, stride=1, padding=0)\n",
        "        self.full_conn_1 = nn.Linear(64*4*4, 500)\n",
        "        self.full_conn_2 = nn.Linear(500, 500)\n",
        "        self.full_conn_3 = nn.Linear(500, 10)\n",
        "\n",
        "    def forward(self, x):\n",
        "        x = self.batch_normalize(F.relu(self.conv1(x)))\n",
        "        x = self.drop(self.pool(F.relu(self.conv2(x))))\n",
        "        x = self.batch_normalize(F.relu(self.conv3(x)))\n",
        "        x = self.drop(self.pool(F.relu(self.conv4(x))))\n",
        "        x = self.batch_normalize(F.relu(self.conv5(x)))\n",
        "        x = self.drop(F.relu(self.conv6(x)))\n",
        "        x = self.batch_normalize(F.relu(self.conv7(x)))\n",
        "        x = self.drop(self.batch_normalize(F.relu(self.conv8(x))))\n",
        "        x = x.view(-1, 64*4*4)\n",
        "        x = F.relu(self.full_conn_1(x))\n",
        "        x = F.relu(self.full_conn_2(x))\n",
        "        x = self.full_conn_3(x)\n",
        "        return x\n",
        "\n",
        "net = Net()\n",
        "net.cuda()\n",
        "\n",
        "criterion = nn.CrossEntropyLoss()\n",
        "optimizer = optim.Adam(net.parameters(), lr=0.001)\n",
        "\n",
        "# training the model\n",
        "\n",
        "for epoch in range(10):  # loop over the dataset multiple times\n",
        "\n",
        "    total_right = 0\n",
        "    total = 0\n",
        "\n",
        "    for i, data in enumerate(trainloader, 0):\n",
        "        # get the inputs\n",
        "        inputs, labels = data\n",
        "        inputs = convert_images_to_sift(inputs)\n",
        "        inputs = inputs.to(torch.float32)\n",
        "        inputs, labels = Variable(inputs).cuda(), Variable(labels).cuda()\n",
        "\n",
        "        # zero the parameter gradients\n",
        "        optimizer.zero_grad()\n",
        "\n",
        "        # forward + backward + optimize\n",
        "        outputs = net(inputs)\n",
        "        loss = criterion(outputs, labels)\n",
        "        loss.backward()\n",
        "        optimizer.step()\n",
        "\n",
        "        #accuracy\n",
        "        _, predicted = torch.max(outputs.data, 1)\n",
        "        total += labels.size(0)\n",
        "        total_right += (predicted == labels.data).float().sum()\n",
        "\n",
        "    print(\"Training Accuracy for epoch {} : {}\".format(epoch+1,total_right/total))\n",
        "\n",
        "    if (epoch+1) % 5 == 0:\n",
        "        torch.save(net, 'save_params.ckpt')\n",
        "\n",
        "# test the model\n",
        "\n",
        "my_model = torch.load('save_params.ckpt')\n",
        "\n"
      ],
      "metadata": {
        "id": "HtzBoj8cl6VW"
      },
      "execution_count": null,
      "outputs": []
    },
    {
      "cell_type": "code",
      "source": [
        "for epoch in range(10):  # loop over the dataset multiple times\n",
        "\n",
        "    total_right = 0\n",
        "    total = 0\n",
        "\n",
        "    for i, data in enumerate(trainloader, 0):\n",
        "        # get the inputs\n",
        "        inputs, labels = data\n",
        "        inputs = convert_images_to_sift(inputs)\n",
        "        inputs = inputs.to(torch.float32)\n",
        "        inputs, labels = Variable(inputs).cuda(), Variable(labels).cuda()\n",
        "\n",
        "        # zero the parameter gradients\n",
        "        optimizer.zero_grad()\n",
        "\n",
        "        # forward + backward + optimize\n",
        "        outputs = net(inputs)\n",
        "        loss = criterion(outputs, labels)\n",
        "        loss.backward()\n",
        "        optimizer.step()\n",
        "\n",
        "        #accuracy\n",
        "        _, predicted = torch.max(outputs.data, 1)\n",
        "        total += labels.size(0)\n",
        "        total_right += (predicted == labels.data).float().sum()\n",
        "\n",
        "    print(\"Training Accuracy for epoch {} : {}\".format(epoch+1,total_right/total))\n",
        "\n",
        "    if (epoch+1) % 5 == 0:\n",
        "        torch.save(net, 'save_params.ckpt')\n",
        "\n",
        "\n"
      ],
      "metadata": {
        "colab": {
          "base_uri": "https://localhost:8080/"
        },
        "id": "thabsa1ofIlB",
        "outputId": "b7fcd472-7ac9-4b16-e99f-37a8176d0da6"
      },
      "execution_count": null,
      "outputs": [
        {
          "output_type": "stream",
          "name": "stdout",
          "text": [
            "Training Accuracy for epoch 1 : 0.6756599545478821\n",
            "Training Accuracy for epoch 2 : 0.6773599982261658\n",
            "Training Accuracy for epoch 3 : 0.6784600019454956\n",
            "Training Accuracy for epoch 4 : 0.676539957523346\n",
            "Training Accuracy for epoch 5 : 0.6803999543190002\n",
            "Training Accuracy for epoch 6 : 0.6818000078201294\n",
            "Training Accuracy for epoch 7 : 0.6845799684524536\n",
            "Training Accuracy for epoch 8 : 0.6819999814033508\n",
            "Training Accuracy for epoch 9 : 0.6834999918937683\n",
            "Training Accuracy for epoch 10 : 0.6875999569892883\n"
          ]
        }
      ]
    },
    {
      "cell_type": "code",
      "source": [
        "my_model = torch.load('save_params.ckpt')\n",
        "\n",
        "total_right = 0\n",
        "total = 0\n",
        "\n",
        "\n",
        "with torch.no_grad():\n",
        "    for data in testloader:\n",
        "        images, labels = data\n",
        "        images = convert_images_to_sift(images)\n",
        "        images = images.to(torch.float32)\n",
        "        images, labels = Variable(images).cuda(), Variable(labels).cuda()\n",
        "        outputs = my_model(images)\n",
        "\n",
        "        _, predicted = torch.max(outputs.data, 1)\n",
        "        total += labels.size(0)\n",
        "        total_right += (predicted == labels.data).float().sum()\n",
        "\n",
        "print('Test accuracy: %d %%' % (\n",
        "    100 * total_right / total))"
      ],
      "metadata": {
        "colab": {
          "base_uri": "https://localhost:8080/"
        },
        "id": "B7fu0272WzAH",
        "outputId": "338dad25-d832-4a89-e8b8-67a8b0f12c94"
      },
      "execution_count": null,
      "outputs": [
        {
          "output_type": "stream",
          "name": "stdout",
          "text": [
            "Test accuracy: 66 %\n"
          ]
        }
      ]
    },
    {
      "cell_type": "code",
      "source": [],
      "metadata": {
        "id": "N0b3nur9vj3p"
      },
      "execution_count": null,
      "outputs": []
    }
  ]
}
